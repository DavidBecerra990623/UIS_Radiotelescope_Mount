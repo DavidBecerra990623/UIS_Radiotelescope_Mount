{
 "cells": [
  {
   "cell_type": "code",
   "execution_count": 1,
   "id": "2d52b156",
   "metadata": {},
   "outputs": [],
   "source": [
    "\n",
    "import matplotlib as mpl\n",
    "import matplotlib.pyplot as plt\n",
    "from matplotlib import cm\n",
    "from mpl_toolkits import mplot3d #Esto es para realizar gráficas en 3D\n",
    "import pandas as pd \n",
    "import numpy as np \n",
    "import scipy as sci \n",
    "import sympy as sp\n",
    "from scipy.interpolate import interp1d,splrep,splev #Esto es para poder realizar la interpolación \n",
    "#Para realizar la cinemática de multicuerpos\n",
    "from pytransform3d import rotations as pr_rot\n",
    "from pytransform3d import plot_utils as pr_plot\n",
    "import pytransform3d.transformations as pr_trans\n",
    "import math as mt"
   ]
  },
  {
   "cell_type": "markdown",
   "id": "1c3c2911",
   "metadata": {},
   "source": [
    "# Wind Loading on the Hay-Stack Radiotelescope"
   ]
  },
  {
   "cell_type": "markdown",
   "id": "8e9c633e",
   "metadata": {},
   "source": [
    "## Aerodynamic Coefficients of Parabolic Antenas "
   ]
  },
  {
   "cell_type": "markdown",
   "id": "ad1c1b6b",
   "metadata": {
    "raw_mimetype": "text/latex"
   },
   "source": [
    "Para el calculo de las cargas aerodinámicas que resiste la  antena parabolica utilizada en el radiotelescopio Hay-Stack se utilizó la data y recomendaciones presentadas en los siguientes articulos: \n",
    "\n",
    "(1)[Roschke, E. J. (1984). Wind loading on solar concentrators: some general considerations (No. DOE/JPL-1060-66; JPL-PUB-83-101). Jet Propulsion Lab., Pasadena, CA (USA).](https://www.osti.gov/biblio/6517833 \"Wind loading on solar concentrators\")\n",
    "\n",
    "(2)[Wyatt, T. A. (1964). The aerodynamics of shallow paraboloid antennas. Annals of the New York Academy of Sciences, 116(1), 222-238.](https://nyaspubs.onlinelibrary.wiley.com/doi/abs/10.1111/j.1749-6632.1964.tb33945.x \"Aerodynamics of Shallow paraboloid antennas\" )\n",
    "\n",
    "(3)[Levy, R., & Kurtz, D. W. (1978). Compilation of wind tunnel coefficients for parabolic reflectors. ](https://core.ac.uk/download/pdf/42874561.pdf \"Compilation of wind tunnel coefficients for parabolic reflectors\")\n",
    "\n",
    "Los tres documentos anteriormente presentados representan un referente en el cálculo de cargas aerodinámicas en antenas parabolicas, los datos que en estos se encuentran, son producto de simulaciones en tunel de viento de antenas recreadas a escala cuyos parámetros de semejanza geométrica son: <!-- spaces -->\n",
    "* Razón Focal: (F/D)\n",
    "* Razón de altura: (H/D) \n",
    "* Porosidad: 0\\%, 25\\%, 50\\% \n",
    "\n",
    "Como longitud carácteristica de la antena se tiene su diámetro, y como área de referencia se tiene el área frontal $\\frac{\\pi D^{2}}{4} $\n",
    "\n"
   ]
  },
  {
   "cell_type": "markdown",
   "id": "66383d81",
   "metadata": {},
   "source": [
    "## Hay-Stack Paraboloid Antenna"
   ]
  },
  {
   "cell_type": "markdown",
   "id": "baad2a30",
   "metadata": {},
   "source": [
    "Las caracteristicas geométricas de la antena Parabolica del radiotelescopio Hay-Stack se presentan a continuación: \n",
    "* Diámetro: 3 metros\n",
    "* Distancia Focal: 1.35 m\n",
    "* Altura: 41.6 cm\n",
    "* Razón Focal (F/D): 0.45\n",
    "* Rázon de altura (H/D): 0.138 \n",
    "* Porosidad estimada: 50% "
   ]
  },
  {
   "cell_type": "code",
   "execution_count": 2,
   "id": "7274b051",
   "metadata": {},
   "outputs": [],
   "source": [
    "    #Parámetros geométricos de la antenna \n",
    "    \n",
    "D = 3 #Diámetro: 3 metros \n",
    "f = 1.35 #Distancia Focal: 1.35 m\n",
    "h = 0.416 #Altura: 41.6 cm\n",
    "FD = 0.45 #Razón Focal (F/D): 0.45\n",
    "HD = 0.138 #Rázon de altura (H/D): 0.138 \n",
    "e = 2*f*(1 +(D/(2*f))**2)\n",
    "A_ref = (mt.pi*D**2)/4 #Área de refencia de la antena\n",
    "ED = e/D\n",
    "\n",
    "#Porosidad estimada: 50% "
   ]
  },
  {
   "cell_type": "markdown",
   "id": "6fb231a6",
   "metadata": {},
   "source": [
    "#### Datos de los coeficientes aerodinámicos de una antena con razón focal de 0.46 y porosidad 0\n",
    "\n",
    "A continuación se realiza el tratamiento de datos de los archivos .csv para obtener la data que ahí se presenta, los datos de los coeficientes de carga axial están en el DataFrame Axial_coeff y los de carga transversal (o lateral) están en Lat_coeff"
   ]
  },
  {
   "cell_type": "code",
   "execution_count": 3,
   "id": "5eec3e2d",
   "metadata": {},
   "outputs": [],
   "source": [
    "    ##Lectura de los coeficientes de la fuerza axial obtenidos en [2]\n",
    "    \n",
    "axial_coeff_csv = 'Axialforcecoeff046.csv' \n",
    "#Lee el archivo .csv en donde se tiene para diferentes ángulos el coeficiente \n",
    "axial_coeff = pd.read_csv(axial_coeff_csv, sep= ';', names = [\"Gamma\", \"Ca\"], header = 0)\n",
    "\n",
    "#Convierte los objetos de las columnas al tipo de objeto más adecuado en este caso a String\n",
    "Axial_coeff = axial_coeff.convert_dtypes()\n",
    "#Axial_coeff.dtypes\n",
    "\n",
    "#Se remplaza la , por . para que se pueda realizar la conversión a punto flotante\n",
    "Axial_coeff[\"Gamma\"]= Axial_coeff[\"Gamma\"].str.replace(',','.').astype(float)\n",
    "Axial_coeff[\"Ca\"]= Axial_coeff[\"Ca\"].str.replace(',','.').astype(float)\n",
    "#Se verifica que el tipo de dato sea float\n",
    "#Axial_coeff.dtypes\n",
    "\n",
    "Gamma_ca = np.array(Axial_coeff[\"Gamma\"])\n",
    "Ca = np.array(Axial_coeff[\"Ca\"])\n",
    "\n",
    "                        ##Lectura de los coeficientes de la fuerza alateral obtenidos en [2]\n",
    "    \n",
    "lat_coeff_csv = 'Lat_force_coeff046.csv' \n",
    "#Lee el archivo .csv en donde se tiene para diferentes ángulos el coeficiente \n",
    "lat_coeff = pd.read_csv(lat_coeff_csv, sep= ';', names = [\"Gamma\", \"Ct\"], header = 0)\n",
    "\n",
    "#Convierte los objetos de las columnas al tipo de objeto más adecuado en este caso a String\n",
    "Lat_coeff = lat_coeff.convert_dtypes()\n",
    "Lat_coeff.dtypes\n",
    "\n",
    "#Se remplaza la , por . para que se pueda realizar la conversión a punto flotante\n",
    "Lat_coeff[\"Gamma\"]= Lat_coeff[\"Gamma\"].str.replace(',','.').astype(float)\n",
    "Lat_coeff[\"Ct\"]= Lat_coeff[\"Ct\"].str.replace(',','.').astype(float)\n",
    "# #Se verifica que el tipo de dato sea float\n",
    "#Lat_coeff.dtypes\n",
    "\n",
    "Gamma_ct = np.array(Lat_coeff[\"Gamma\"])\n",
    "Ct = np.array(Lat_coeff[\"Ct\"])"
   ]
  },
  {
   "cell_type": "markdown",
   "id": "772b2c80",
   "metadata": {},
   "source": [
    "#### Interpolación de los datos anteriorimente suministrado\n",
    "\n",
    "Con el fin de obtener los valores de los coeficientes aerodinámicos para cualquier ángulo de incidencia se propone una interpolación lineal de una dimensión mediante el [método de scipy](https://scipy.github.io/devdocs/tutorial/interpolate.html#spline-interpolation-in-1-d-object-oriented-univariatespline \"Interpolación 1D\") de los coeficientes Ca y Ct \n",
    "\n",
    "Debido a que se pueden interpolar valores de angulo de incidencia $\\gamma$ que estén entre los rangos originales encontrados en los dataframes se deja como conocimiento que: \n",
    "* Para Ca $\\rightarrow$ $\\gamma \\in \\left[1.4723 , 180.85 \\right]$\n",
    "* Para Ct $\\rightarrow$ $\\gamma \\in \\left[0.23, 179.52  \\right]$\n",
    "\n",
    "Por lo que se propone la evaluación de las cargas en el intervalo $\\gamma \\in \\left[2,179 \\right]$"
   ]
  },
  {
   "cell_type": "markdown",
   "id": "e8258f35",
   "metadata": {},
   "source": [
    "#### Interpolación para el coeficiente de fuerza Axial"
   ]
  },
  {
   "cell_type": "code",
   "execution_count": 4,
   "id": "a17775c3",
   "metadata": {},
   "outputs": [],
   "source": [
    "                                        #Interpolación de los datos del coeficiente de carga axial\n",
    "#Se realiza la interpolación a partir de los datos\n",
    "f_af = interp1d(Gamma_ca, Ca, kind = \"cubic\") #Utilizando una interpolación cubica \n",
    "#Se crea una lista para evaluaar la interpolación \n",
    "Gamma_test = range(3,170,5)"
   ]
  },
  {
   "cell_type": "markdown",
   "id": "728f0b3a",
   "metadata": {},
   "source": [
    "#### Interpolación para el coeficiente de fuerza Lateral o transversal"
   ]
  },
  {
   "cell_type": "code",
   "execution_count": 5,
   "id": "958ed47b",
   "metadata": {},
   "outputs": [],
   "source": [
    "                                        #Interpolación de los datos del coeficiente de carga lateral\n",
    "#Se realiza la interpolación a partir de los datos\n",
    "f_al = interp1d(Gamma_ct, Ct, kind = \"cubic\")\n",
    "#Se utiliza la misma lista de interpolación utilizada para el coeficiente de carga axial"
   ]
  },
  {
   "cell_type": "markdown",
   "id": "11472f5d",
   "metadata": {},
   "source": [
    "#### Comprobación de los coeficientes aerodinámicos respecto a los coeficientes cálculados \n",
    "\n",
    "Es importante ver que tan preciso es asumir la antena del radiotelescopio Hay-Stack como una antena completamente sólida, para ello se va a verificar algunos coeficientes; para esto se toman como referencia los coeficientes aerodinámicos acá calculados y se compararán con los dados en la referencia [3].\n",
    "\n",
    "La metodología a emplear es la siguiente: \n",
    "* Se plantean varios ángulos de azimuth y elevación\n",
    "* Se cálcula el verdadero ángulo de incidencia $ Cos(\\gamma) = Cos(\\alpha)sin(\\beta)$ en donde $\\alpha$ es el ángulo de azimuth y $\\beta$ es el ángulo de elevación.\n",
    "* Se cálculan las fuerzas arodinámicas en la Antenna en el Steering Axis (Stability Axis) y posteriormente se    cálculan los coeficientes aerodinámicos\n",
    "* Se listan los coeficientes aerodinámicos propuestos en [3] para los ángulos de elevación y azimuth\n",
    "* Se transladan todos al mismo sistema de referencia ( Body Axis $\\longleftrightarrow$ Steering  Axis) "
   ]
  },
  {
   "cell_type": "code",
   "execution_count": 6,
   "id": "d0b482e9",
   "metadata": {},
   "outputs": [],
   "source": [
    "        #Comprobación de los coeficientes aerodinámicos respecto a los coeficientes cálculados\n",
    "    #Se listan ángulos de azimuth y elevación \n",
    "\n",
    "alpha = np.array(range(5,350,5))#Angulos de azimut\n",
    "beta = np.array(range(0,90,5))# Angulos de elevacion\n",
    "\n",
    "    #Se crea un arreglo de attitude para tener las diferentes combinaciones de posición\n",
    "attitude = np.empty((len(alpha),len(beta)))\n",
    "for i in range(len(alpha)):\n",
    "    attitude[i,:] = beta\n",
    "    #Se crea un DataFrame con todas las posiciones de la antena\n",
    "attitude_df = pd.DataFrame(attitude, index = alpha)\n",
    "attitude_df = attitude_df.T\n",
    "attitude_df.index = beta  \n",
    "\n",
    "\n",
    "    #Se crea un arreglo de los ángulos de incidencia equivalentes \n",
    "gamma = np.empty((len(alpha),len(beta)))\n",
    "for i in range(len(alpha)):\n",
    "    gamma[i,:] = np.rad2deg(np.arccos(mt.cos(mt.radians(alpha[i]))*np.sin(np.deg2rad(attitude[i,:]))))\n",
    "    \n",
    "gamma_df = pd.DataFrame(gamma, index = alpha) #Las filas son el ángulo de azimuth y se le asigna valor\n",
    "gamma_df = gamma_df.T    #Se transpone para que ahora las filas sean los angulos de elevacion                                  \n",
    "gamma_df.index = beta    #Se le pone el valor de cada fila\n",
    "#print(gamma_df)    #descomentar para ver la relación de ángulos con ángulos equivalentes \n",
    "\n",
    "                    #Se cálcula los coeficientes de fuerza axial para cada posición de la antena\n",
    "\n",
    "Ax_coef_att = f_af(gamma_df) #Se calcula un array con los coeficientes\n",
    "Ax_coef_df = pd.DataFrame(Ax_coef_att, index = beta) #Se transforma a dataframe y se asigna a las filas el valor de la eleavacion\n",
    "Ax_coef_df = Ax_coef_df.T  #Ahora las filas son los ángulos de azimuth\n",
    "Ax_coef_df.index = alpha   #Se le da el valor de azimuth a cada fila\n",
    "Ax_coef_df = Ax_coef_df.T  #Se devuelve a su posicion normal (columnas = azimuth) paa que coincida con gamma\n",
    "\n",
    "                     #Se cálcula los coeficientes de fuerza lateral para cada posición de la antena\n",
    "#Se realiza el mismo procedimeinto que con la fuerza axial\n",
    "Lat_coef_att = f_al(gamma_df)\n",
    "Lat_coef_df = pd.DataFrame(Lat_coef_att, index = beta)\n",
    "Lat_coef_df = Lat_coef_df.T \n",
    "Lat_coef_df.index = alpha \n",
    "Lat_coef_df = Lat_coef_df.T "
   ]
  },
  {
   "cell_type": "markdown",
   "id": "9d68f41a",
   "metadata": {},
   "source": [
    "Con el fin de obtener el coeficiente de fuerza lateral neto $C_{t}$ y no $\\left(\\frac{f}{D}\\right) C_{t}$ se debe multiplicar por el inverso de la razón focal el coeficiente aerodinámico, así pues:"
   ]
  },
  {
   "cell_type": "code",
   "execution_count": 7,
   "id": "fadf0d6a",
   "metadata": {},
   "outputs": [],
   "source": [
    "Lat_coef_df = (1/FD)*Lat_coef_df"
   ]
  },
  {
   "cell_type": "markdown",
   "id": "2f9e6187",
   "metadata": {},
   "source": [
    "El  primer cáculo de fuerzas que a continuación se presenta corresponde a las fuerzas representadas en un sistema de referencia local del tipo Stability Axes o Steering axis, el cual se presenta en la siguiente imagen: \n",
    "<img src=\"Stability_Axes.JPG\">\n",
    "Este sistema de referencia de acá en adelante se conoce como sistema de referencia 0 S0 y debe ser convertido al sistema de coordenadas S3 que posteriormente se presenta para poder realizar comparaciones con [3]"
   ]
  },
  {
   "cell_type": "markdown",
   "id": "d7e181d6",
   "metadata": {},
   "source": [
    "## Descripción de los sistemas de referencia utilizados\n",
    "\n",
    "A continuación se pesentará la descripción de los sistemas de referencia utilizados, para ellos es importante tener en cuenta los colores de los ejes siendo: \n",
    "* Rojo: Eje x positivo \n",
    "* Verde: Eje y positivo\n",
    "* Azul: Eje z positivo "
   ]
  },
  {
   "cell_type": "markdown",
   "id": "0bd24414",
   "metadata": {},
   "source": [
    "#### Sistema de Corrdenadas 0 S0\n",
    "En este sistema de coordenadas cada eje representa \n",
    "* Eje y: Representa el eje de elevación\n",
    "* Eje x: Perpedincular al eje de elevación en un plano vertical\n",
    "* Eje z: Eje vertical "
   ]
  },
  {
   "cell_type": "code",
   "execution_count": 8,
   "id": "43d47a1d",
   "metadata": {},
   "outputs": [],
   "source": [
    "# fig = plt.figure(figsize=(2,2))\n",
    "# ax0 = pr_rot.plot_basis(R=np.eye(3))\n",
    "# ax0.set_xlim((0.8,-0.8))\n",
    "# ax0.set_title(\"Sistema de coordenadas 0\")\n",
    "# pr_plot.remove_frame(ax0)\n",
    "# plt.show()"
   ]
  },
  {
   "cell_type": "markdown",
   "id": "abf4b55f",
   "metadata": {},
   "source": [
    "#### Sistema de Cordenadas S1\n",
    "En este sistema de coordenadas cada eje representa \n",
    "* Eje y: Perpedincular al eje de elevación en un plano vertical\n",
    "* Eje x: Representa el eje de elevación \n",
    "* Eje z: Eje vertical "
   ]
  },
  {
   "cell_type": "code",
   "execution_count": 9,
   "id": "7a2bc0f3",
   "metadata": {
    "scrolled": true
   },
   "outputs": [],
   "source": [
    "# fig = plt.figure(figsize=(2,2))\n",
    "# R = pr_rot.matrix_from_axis_angle(a=[0,0,1,-np.pi/2])\n",
    "# ax1 = pr_rot.plot_basis(R = R)\n",
    "# pr_plot.remove_frame(ax1)\n",
    "# ax1.set_title(\"Sistema de coordenadas 1\")\n",
    "# plt.show()"
   ]
  },
  {
   "cell_type": "markdown",
   "id": "b8706c26",
   "metadata": {},
   "source": [
    "#### Sistema de Corrdenadas 0 S2\n",
    "En este sistema de coordenadas cada eje representa \n",
    "* Eje y: Representa el eje de elevación \n",
    "* Eje x: Representa el eje de elevación Eje vertical \n",
    "* Eje z: Perpedincular al eje de elevación en un plano horizontal"
   ]
  },
  {
   "cell_type": "code",
   "execution_count": 10,
   "id": "c2eb6eb2",
   "metadata": {},
   "outputs": [],
   "source": [
    "# fig = plt.figure(figsize=(2,2))\n",
    "# R = np.array([\n",
    "#     [0,0,1],\n",
    "#     [0,-1,0],\n",
    "#     [1,0,0]\n",
    "# ])\n",
    "# ax2 = pr_rot.plot_basis(R = R)\n",
    "# pr_plot.remove_frame(ax2)\n",
    "# ax2.set_title(\"Sistema de coordenadas 2\")\n",
    "# plt.show()"
   ]
  },
  {
   "cell_type": "markdown",
   "id": "66b4d809",
   "metadata": {},
   "source": [
    "#### Sistema de Corrdenadas 0 S3 (Body Frame)\n",
    "En este sistema de coordenadas cada eje representa \n",
    "* Eje y: Perpedincular al eje de elevación en un plano horizontal\n",
    "* Eje x: Eje vertical \n",
    "* Eje z: Representa el eje de elevación"
   ]
  },
  {
   "cell_type": "code",
   "execution_count": 11,
   "id": "a0f7918b",
   "metadata": {},
   "outputs": [],
   "source": [
    "# fig = plt.figure(figsize=(2,2))\n",
    "# R = np.array([\n",
    "#     [0,-1,0],\n",
    "#     [0,0,-1],\n",
    "#     [1,0,0]\n",
    "# ])\n",
    "# ax3 = pr_rot.plot_basis(R = R)\n",
    "# pr_plot.remove_frame(ax3)\n",
    "# ax3.set_title(\"Sistema de coordenadas 3\")\n",
    "# plt.show()"
   ]
  },
  {
   "cell_type": "code",
   "execution_count": 12,
   "id": "c594359e",
   "metadata": {
    "scrolled": true
   },
   "outputs": [],
   "source": [
    "        #Calculo de las fuerzas para las diferentes posiciones planteadas de la antena\n",
    "\n",
    "\n",
    "    #Parametros de viento y lugar \n",
    "rho_v = 1.173 #Densidad del aire humedo a 25°C, R = 0.7, P = 101.190 Kpa\n",
    "v = 108 #Velocidad máxima del viento en Km/h en los ultimos 10 años segun IDEAM \n",
    "v_m = v*(1000/3600)\n",
    "\n",
    "Din_P = (1/2)*rho_v*(v_m)**2 #Presion dinámica del viento a la velocidad definida\n",
    "\n",
    "    #Cálculo de la fuerza axial Pa \n",
    "Pa_df = Din_P*A_ref*Ax_coef_df\n",
    "\n",
    "Pa = np.empty((len(beta),len(alpha)))\n",
    "for i in range(len(beta)):\n",
    "    Pa[i,:] = Din_P*A_ref*Ax_coef_att[i,:]\n",
    "\n",
    "    #Cálculo de la fuerza transversal Pt\n",
    "Pt_df = Din_P*A_ref*Lat_coef_df\n",
    "Pt = np.empty((len(beta),len(alpha)))\n",
    "for i in range(len(beta)):\n",
    "    Pt[i,:] = Din_P*A_ref*Lat_coef_att[i,:]\n",
    "    \n",
    "    #Cálculo de la fuerza en el eje x para cada posición de la antena \n",
    "Fx = np.empty((len(beta),len(alpha))) \n",
    "for i in range(len(beta)):\n",
    "    A = Pa[i,:]*np.sin(np.deg2rad(beta[i]))\n",
    "    B = Pt[i,:]*(1/np.sin(np.deg2rad(gamma.T[i,:])))*np.cos(np.deg2rad(alpha))*np.cos(np.deg2rad(beta[i]))**2\n",
    "    Fx[i,:] = A + B    \n",
    "    \n",
    "        #Cálculo de la fuerza en el eje y para cada posición de la antena \n",
    "Fy = np.empty((len(beta),len(alpha))) \n",
    "for i in range(len(beta)):\n",
    "    A = 0\n",
    "    B = Pt[i,:]*(1/np.sin(np.deg2rad(gamma.T[i,:])))*np.sin(np.deg2rad(alpha))\n",
    "    Fy[i,:] = A - B      \n",
    "\n",
    "        #Cálculo de la fuerza en el eje z para cada posición de la antena \n",
    "Fz = np.empty((len(beta),len(alpha)))\n",
    "for i in range(len(beta)):\n",
    "    A = Pa[i,:]*np.cos(np.deg2rad(beta[i]))\n",
    "    B = Pt[i,:]*(1/np.sin(np.deg2rad(gamma.T[i,:])))*np.cos(np.deg2rad(alpha))*np.sin(np.deg2rad(beta[i]))*np.cos(np.deg2rad(beta[i]))\n",
    "    Fz[i,:] = A + B   \n",
    "        #Se crea un arreglo multidinemsional de dimensiones MxNx3 para las fuerzas\n",
    "\n",
    "Forces = np.empty((len(beta),len(alpha),3))\n",
    "for i in range(len(beta)):\n",
    "    Forces[i,:,0] = Fx[i,:]\n",
    "    Forces[i,:,1] = Fy[i,:]\n",
    "    Forces[i,:,2] = Fz[i,:]\n",
    "    \n",
    "\n",
    "                                    #Cálculo de los momentos \n",
    "#Calculo de los momentos en x\n",
    "Mx = np.empty((len(beta),len(alpha))) \n",
    "for i in range(len(beta)):\n",
    "    A = Pt[i,:]*e\n",
    "    B = 1/np.sin(np.deg2rad(gamma[:,i]))\n",
    "    C = np.sin(np.deg2rad(alpha))\n",
    "    D = np.cos(np.deg2rad(beta[i]))\n",
    "    Mx[i,:] = A*B*C*D\n",
    "    \n",
    "#Calculo de los momentos en y\n",
    "My = np.empty((len(beta),len(alpha))) \n",
    "for i in range(len(beta)):\n",
    "    A = Pt[i,:]*e\n",
    "    B = 1/np.sin(np.deg2rad(gamma[:,i]))\n",
    "    C = np.cos(np.deg2rad(alpha))\n",
    "    D = np.cos(np.deg2rad(beta[i]))\n",
    "    My[i,:] = A*B*C*D  \n",
    "\n",
    "#Calculo de los momentos en z\n",
    "Mz = np.empty((len(beta),len(alpha))) \n",
    "for i in range(len(beta)):\n",
    "    A = Pt[i,:]*e\n",
    "    B = 1/np.sin(np.deg2rad(gamma[:,i]))\n",
    "    C = np.sin(np.deg2rad(alpha))\n",
    "    D = np.sin(np.deg2rad(beta[i]))\n",
    "    Mz[i,:] = A*B*C*D  \n",
    "\n",
    "#Creación del arreglo de momentos \n",
    "Moments = np.empty((len(beta),len(alpha),3))\n",
    "for i in range(len(beta)):\n",
    "    Moments[i,:,0] = Mx[i,:]\n",
    "    Moments[i,:,1] = My[i,:]\n",
    "    Moments[i,:,2] = Mz[i,:]\n",
    "\n",
    "\n",
    "\n",
    "cmap=plt.get_cmap('plasma')\n",
    "pallete = []\n",
    "for n in np.linspace(0,1,50):\n",
    "    pallete.append(cmap(n))"
   ]
  },
  {
   "cell_type": "markdown",
   "id": "87cf3a48",
   "metadata": {},
   "source": [
    "Las fuerzas anteriormente cálculadas están en un marco de referencia S0, por lo tanto se pasaran las fuerzas a un marco de refencia S2, Para ello se harán las siguientes conversiones\n",
    "1. S0 $\\rightarrow$ S1\n",
    "2. S1 $\\rightarrow$ S2\n",
    "3. S2 $\\rightarrow$ S3"
   ]
  },
  {
   "cell_type": "code",
   "execution_count": 13,
   "id": "aae4bbe2",
   "metadata": {
    "scrolled": true
   },
   "outputs": [],
   "source": [
    "                            #Se establecen las relaciones entre los 4 sistemas coordenadso\n",
    "R10 = np.array([\n",
    "    [0,-1,0],\n",
    "    [-1,0,0],\n",
    "    [0,0,1]\n",
    "])\n",
    "R21 = np.array([\n",
    "    [0,0,1],\n",
    "    [1,0,0],\n",
    "    [0,1,0]\n",
    "])\n",
    "\n",
    "R32 = np.array([\n",
    "    [1,0,0],\n",
    "    [0,0,-1],\n",
    "    [0,1,0]\n",
    "])\n",
    "\n",
    "#R32 = np.dot(Rot_y2,R32) la matriz R32 depende del angulo de elevaccion por lo que se premultiplica por Rot(y2,theta)\n"
   ]
  },
  {
   "cell_type": "code",
   "execution_count": 14,
   "id": "b60a8e2e",
   "metadata": {},
   "outputs": [],
   "source": [
    "                                #Transformación de las fuerzas entre coordenadas LH a coordenadas 1 \n",
    "                                #Las coordenadas 1 son las expresadas en la descripción anterior\n",
    "#En forces_S0 están las fuerzas expresadas en el sistema coordenado left-handed (S0)\n",
    "Forces_S0 = Forces\n",
    "Forces_S1 = np.empty((len(beta),len(alpha),3))\n",
    "for i in range(len(beta)):\n",
    "    for j in range(len(alpha)):\n",
    "        Forces_S1[i,j] = np.dot(R10,Forces_S0[i,j].T)\n",
    "        \n",
    "#Rotar el eje coordenado para que el eje y sea el eje de elevación, el eje z sea el eje de simetria de la antena y el eje x sea perpendicular y forme un plano horizontal con el eje y\n",
    "# Forces_S1 es la copia de Forces en donde el eje x era el eje de elevación\n",
    "\n",
    "Forces_S2 = np.empty((len(beta),len(alpha),3))\n",
    "for i in range(len(beta)):\n",
    "    for j in range(len(alpha)):\n",
    "        Forces_S2[i,j] = np.dot(R21,Forces_S1[i,j].T)\n",
    "\n",
    "        #Transformación de las fuerzas entre coordenadas LH a coordenadas 1 \n",
    "#En forces_copy están las fuerzas expresadas en el sistema coordenado left-handed\n",
    "Moments_S0 = Moments\n",
    "\n",
    "#La matriz cambia debido a que los momentos expresados también en el eje coordenado lefthanded están dados por la regla\n",
    "#de la mano derecha\n",
    "\n",
    "R10_m = np.array([\n",
    "    [0,1,0],\n",
    "    [1,0,0],\n",
    "    [0,0,-1]\n",
    "])\n",
    "Moments_S1 = np.empty((len(beta),len(alpha),3))\n",
    "for i in range(len(beta)):\n",
    "    for j in range(len(alpha)):\n",
    "        Moments_S1[i,j] = np.dot(R10_m,Moments_S0[i,j].T)\n",
    "        \n",
    "# Forces_copy_xele es la copia de Forces en donde el eje x era el eje de elevación\n",
    "Moments_S2 = np.empty((len(beta),len(alpha),3))\n",
    "for i in range(len(beta)):\n",
    "    for j in range(len(alpha)):\n",
    "        Moments_S2[i,j] = np.dot(R21,Moments_S1[i,j].T)"
   ]
  },
  {
   "cell_type": "code",
   "execution_count": 15,
   "id": "561b9bed",
   "metadata": {},
   "outputs": [
    {
     "data": {
      "text/plain": [
       "array([[ 0,  0,  1],\n",
       "       [ 0, -1,  0],\n",
       "       [-1,  0,  0]])"
      ]
     },
     "execution_count": 15,
     "metadata": {},
     "output_type": "execute_result"
    }
   ],
   "source": [
    "#Comprobación de las matrices de rotación de S2 a S2 deberia ser\n",
    "#                     [0,0,0]\n",
    "#               R20 = [0,-1,0]\n",
    "#                     [-1,0,0]\n",
    "\n",
    "R20 = np.dot(R21,R10)\n",
    "R20"
   ]
  },
  {
   "cell_type": "markdown",
   "id": "1e43b962",
   "metadata": {},
   "source": [
    "#### Conversión de sistemas de referencias para las cargas de viento presentadas en [3] \n",
    "\n",
    "Para realizar la determinación de las cargas aerodinámicas para diferentes posiciones de la antena se util tener los wrenches en un dataframe indexado por valores de elevación y nombres de columnas como valores de azimut, así pues para acceder al wrench de carga de vientos cuando el azimut $\\alpha = 5°$ y la elevación $\\beta = 0$ se teclea New_Wrench.loc[0,5]"
   ]
  },
  {
   "cell_type": "code",
   "execution_count": 16,
   "id": "45de4a48",
   "metadata": {},
   "outputs": [],
   "source": [
    "#Transformación de las fuerzas al sistema coordenado de cuerpo Body Frame \n",
    "def Rot_y2(theta):\n",
    "    y2_theta = [0,1,0,np.deg2rad(theta)]\n",
    "    Rot_y2 = pr_rot.matrix_from_axis_angle(a = y2_theta)\n",
    "    return Rot_y2\n",
    "\n",
    "Forces_S3 = np.empty((len(beta),len(alpha),3))\n",
    "for i in range(len(beta)):\n",
    "    for j in range(len(alpha)):\n",
    "        Forces_S3[i,j] = np.dot(np.dot(R32,Rot_y2(90-beta[i])),Forces_S2[i,j].T)\n",
    "        \n",
    "Moments_S3 = np.empty((len(beta),len(alpha),3))\n",
    "for i in range(len(beta)):\n",
    "    for j in range(len(alpha)):\n",
    "        Moments_S3[i,j] = np.dot(np.dot(R32,Rot_y2(90-beta[i])),Moments_S2[i,j].T)\n",
    "        \n",
    "        "
   ]
  },
  {
   "cell_type": "code",
   "execution_count": 17,
   "id": "89d3c386",
   "metadata": {
    "scrolled": true
   },
   "outputs": [],
   "source": [
    "        #Grafica para valores de azimuth 5 a diferentes valores de elevación en el sistema de coordenadas S3\n",
    "Forces_coef = np.empty((len(beta),len(alpha),3))\n",
    "Forces_coef = (1/(Din_P*A_ref))*Forces_S3\n",
    "\n",
    "Moments_coef = np.empty((len(beta),len(alpha),3))\n",
    "Moments_coef = (1/(Din_P*A_ref*D))*Moments_S3"
   ]
  },
  {
   "cell_type": "markdown",
   "id": "7afaa1f6",
   "metadata": {},
   "source": [
    "#### Verificación de datos calculados con [2] respecto a [3] \n",
    "Se hará los cálculos para:\n",
    "* **alpha** = 5,20,40,45,60,75,90,120,140,170,180\n",
    "* **Elev** = 5,20,40,45,60,75,90\n",
    "\n",
    "Los cálculos se presentarán como un error en coeficiente y en torque"
   ]
  },
  {
   "cell_type": "code",
   "execution_count": 18,
   "id": "ea19e6e8",
   "metadata": {},
   "outputs": [],
   "source": [
    "search_alpha = np.array([5,20,40,45,60,75,90,120,140,170,180])\n",
    "alpha_index = []\n",
    "elev_index = []\n",
    "theta_v = 90 - beta #trasnformamos los valores de beta a valores de elevación\n",
    "search_theta = np.array([5,20,40,45,60,75,90])\n",
    "#Se encuentran los valores de los indices en donde están theta\n",
    "for i in range(len(search_alpha)):\n",
    "    index33 = np.where(alpha == search_alpha[i])\n",
    "    alpha_index.append(index33[0][0])\n",
    "alpha_index = np.array(alpha_index)\n",
    "#Se encuentran los valores de los indices en donde está theta\n",
    "for i in range(len(search_theta)):\n",
    "    index33 = np.where(theta_v == search_theta[i])\n",
    "    elev_index.append(index33[0][0])\n",
    "elev_index = np.array(elev_index)\n",
    "beta_values = []\n",
    "for i in range(len(elev_index)):\n",
    "    beta_values.append(beta[elev_index[i]])\n",
    "beta_values = np.array(beta_values)\n",
    "\n",
    "#Array de coeficientes de fuerzas según tunel Data, en orden Normal, Axial y Side\n",
    "ff_TD = np.array([\n",
    "    [[0.005,0.821,0.002],[0.054,0.805,0.011],[0.149,0.665,0.024],[0.173,0.611,0.025],[0.228,0.485,0.023],[0.218,0.220,0.020],[0.204,-0.056,0.019]],\n",
    "    [[0.012,0.788,0.045],[0.064,0.766,0.066],[0.159,0.666,0.092],[0.182,0.623,0.092],[0.221,0.472,0.089],[0.206,0.239,0.081],[0.202,-0.046,0.074]],\n",
    "    [[0.016,0.702,0.163],[0.062,0.672,0.179],[0.134,0.577,0.180],[0.150,0.549,0.177],[0.173,0.420,0.164],[0.165,0.205,0.145],[0.150,-0.020,0.132]],\n",
    "    [[0.016,0.675,0.190],[0.059,0.647,0.204],[0.127,0.560,0.201],[0.141,0.541,0.196],[0.159,0.427,0.178],[0.154,0.210,0.160],[0.139,-0.030,0.148]],\n",
    "    [[0.014,0.481,0.228],[0.041,0.455,0.232],[0.086,0.639,0.221],[0.093,0.343,0.216],[0.100,0.241,0.195],[0.095,0.110,0.173],[0.082,-0.020,0.159]],\n",
    "    [[0.008,0.220,0.218],[0.022,0.206,0.219],[0.038,0.171,0.213],[0.040,0.158,0.209],[0.035,0.110,0.189],[0.037,0.070,0.176],[0.039,-0.040,0.161]],\n",
    "    [[0.004,-0.069,0.162],[0.003,-0.054,0.162],[0.002,-0.039,0.158],[0.002,-0.037,0.156],[0.002,-0.033,0.148],[0.003,-0.032,0.149],[0.001,-0.042,0.153]],\n",
    "    [[-0.016,-0.250,0.242],[-0.034,-0.255,0.232],[-0.059,-0.227,0.209],[-0.062,-0.216,0.202],[-0.071,-0.178,0.175],[-0.076,-0.072,0.157],[-0.082,-0.020,0.159]],\n",
    "    [[-0.031,-0.453,0.214],[-0.075,-0.423,0.205],[-0.122,-0.249,0.175],[-0.131,-0.232,0.166],[-0.143,-0.190,0.141],[-0.142,-0.128,0.127],[-0.150,-0.020,0.132]],\n",
    "    [[-0.018,-0.698,0.043],[-0.106,-0.645,0.040],[-0.158,-0.480,0.040],[-0.173,-0.430,0.040],[-0.199,-0.280,0.040],[-0.206,-0.211,0.040],[-0.211,-0.003,0.040]],\n",
    "    [[-0.036,-0.850,-0.001],[-0.124,-0.785,-0.001],[-0.208,-0.579,0.000],[-0.217,-0.508,0.000],[-0.207,-0.320,-0.001],[-0.184,-0.193,-0.002],[-0.197,-0.050,-0.002]]\n",
    "])\n",
    "ff_TD = ff_TD.T\n",
    "\n",
    "Forces_TD = (1/(1/(Din_P*A_ref)))*ff_TD\n",
    "\n",
    "#Array de coeficientes de momentos según tunel Data, en orden Pitch, Roll, Yaw\n",
    "Mf_TD = np.array([\n",
    "    [[0.027,-0.002,0.000],[0.029,-0.001,-0.001],[0.025,-0.001,0.000],[0.026,0.000,0.001],[0.046,-0.001,0.010],[0.063,0.000,0.011],[0.064,-0.002,0.010]],\n",
    "    [[0.031,-0.001,0.001],[0.019,0.000,-0.001],[0.021,-0.001,0.000],[0.026,0.000,0.005],[0.042,0.000,0.027],[0.053,0.000,0.030],[0.056,-0.001,0.029]],\n",
    "    [[0.021,0.001,0.019],[0.014,0.004,0.021],[0.005,0.001,0.021],[0.005,0.000,0.025],[0.023,0.000,0.040],[0.031,0.001,0.044],[0.028,0.000,0.045]],\n",
    "    [[0.019,0.002,0.028],[0.016,0.005,0.032],[0.001,0.002,0.031],[0.000,-0.001,0.035],[0.021,0.002,0.051],[0.033,-0.001,0.056],[0.027,0.001,0.057]],\n",
    "    [[0.042,0.000,0.056],[0.040,0.006,0.064],[0.029,0.003,0.070],[0.052,0.000,0.069],[0.015,0.002,0.054],[0.012,0.000,0.043],[0.017,0.000,0.044]],\n",
    "    [[0.024,0.003,0.067],[0.010,0.002,0.063],[0.000,0.001,0.063],[0.001,0.001,0.064],[0.008,0.002,0.068],[0.003,-0.002,0.071],[-0.013,0.002,0.072]],\n",
    "    [[0.016,0.001,0.044],[0.005,0.001,0.040],[-0.002,-0.001,0.035],[-0.002,0.001,0.035],[0.001,0.001,0.041],[0.000,0.001,0.038],[-0.002,-0.001,0.038]],\n",
    "    [[0.003,-0.005,0.100],[0.000,0.000,0.098],[-0.009,-0.002,0.087],[-0.013,0.004,0.083],[-0.021,-0.003,0.069],[-0.023,0.001,0.054],[-0.017,0.000,0.044]],\n",
    "    [[-0.005,-0.002,0.079],[-0.014,-0.001,0.077],[-0.034,0.000,0.070],[-0.038,-0.001,0.066],[-0.031,0.003,0.055],[-0.028,0.000,0.048],[-0.028,0.000,0.045]],\n",
    "    [[0.015,0.000,0.022],[-0.006,-0.002,0.022],[-0.042,0.002,0.022],[-0.049,-0.002,0.022],[-0.063,0.000,0.023],[-0.068,-0.001,0.022],[-0.066,-0.002,0.021]],\n",
    "    [[0.038,-0.001,0.002],[0.011,0.000,0.002],[-0.055,0.002,-0.001],[-0.065,-0.003,0.000],[-0.071,0.000,0.002],[-0.067,-0.002,-0.002],[-0.062,-0.002,-0.001]]\n",
    "])\n",
    "\n",
    "Mf_TD = Mf_TD.T\n",
    "Moments_TD = (Din_P*A_ref*D)*Mf_TD"
   ]
  },
  {
   "cell_type": "code",
   "execution_count": 19,
   "id": "2f4758a8",
   "metadata": {},
   "outputs": [],
   "source": [
    "ff = np.empty((len(elev_index),len(alpha_index),3))\n",
    "for i in range(len(elev_index)):\n",
    "    for j in range(len(alpha_index)):\n",
    "        ff[i,j]=ff_TD[:,i,j]\n",
    "Mff = np.empty((len(elev_index),len(alpha_index),3))\n",
    "for i in range(len(elev_index)):\n",
    "    for j in range(len(alpha_index)):\n",
    "        Mff[i,j]=Mf_TD[:,i,j]\n",
    "        \n",
    "Mff[:,:,[0,2]] = Mff[:,:,[2,0]]       \n",
    "ff_forces = (Din_P*A_ref)*ff\n",
    "Mf_Moments = (Din_P*A_ref*D)*Mff\n",
    "\n"
   ]
  },
  {
   "cell_type": "markdown",
   "id": "c70457a0",
   "metadata": {},
   "source": [
    "#### Representación de las cargas de viento en S4\n",
    "\n",
    "Con el fin de disponer de las cargas de viento del radiotelescopio Hay-Stack se trasladan las fuerzas al sistema de referencia S4 que se describirá a continuación, este sistema coordenado es un sistema coordenado atado a la antena, cuyo eje z siempre será el eje de simetria de la antena en dirección al apuntamiento, y el eje y siempre será el eje de elevación de esta, así pues: \n",
    "\n",
    "* **Eje x**: Perpendicular al eje de elevación y simetría\n",
    "* **Eje y**: Es el eje de elevación el cuál está siempre en un plano horizontal\n",
    "* **Eje z**: Es un eje que siempre está en el eje de simetria de la antenna, con la mismo sentido que el apuntamiento. \n",
    "\n",
    "Este sistema coordenado para el análisis cinemático de la antena es el que se representa por $\\{ C \\}$ en **Antenna Kinematics**"
   ]
  },
  {
   "cell_type": "code",
   "execution_count": 20,
   "id": "eaf5673e",
   "metadata": {},
   "outputs": [],
   "source": [
    "# fig = plt.figure(figsize=(2,2))\n",
    "# R = np.array([\n",
    "#     [0,0,1],\n",
    "#     [0,-1,0],\n",
    "#     [1,0,0]\n",
    "# ])\n",
    "# ax2 = pr_rot.plot_basis(R = R)\n",
    "# pr_plot.remove_frame(ax2)\n",
    "# ax2.set_title(\"Sistema de coordenadas S4\")\n",
    "# plt.show()"
   ]
  },
  {
   "cell_type": "markdown",
   "id": "3c26c4e4",
   "metadata": {},
   "source": [
    "#### Rotación de fuerzas y momentos a S4\n",
    "\n",
    "Con el fin de lograr el objetivo anteriormente planteado se debe realizar la rotación respectiva mediante\n",
    "\n",
    "\n",
    "                        [1,0,0]\n",
    "                 R43 =  [0,0,1]\n",
    "                        [0,-1,0]\n",
    "\n"
   ]
  },
  {
   "cell_type": "code",
   "execution_count": 21,
   "id": "391d946c",
   "metadata": {},
   "outputs": [],
   "source": [
    "R43 = np.array([\n",
    "    [1,0,0],\n",
    "    [0,0,1],\n",
    "    [0,-1,0]\n",
    "])\n",
    "        #Transformación de fuerzas de S3 a S4\n",
    "Forces_S4 = np.empty((len(beta),len(alpha),3))\n",
    "for i in range(len(beta)):\n",
    "    for j in range(len(alpha)):\n",
    "        Forces_S4[i,j] = np.dot(R43,Forces_S3[i,j].T)\n",
    "\n",
    "        #Transformación de momentos de S3 a S4\n",
    "Moments_S4 = np.empty((len(beta),len(alpha),3))\n",
    "for i in range(len(beta)):\n",
    "    for j in range(len(alpha)):\n",
    "        Moments_S4[i,j] = np.dot(R43,Moments_S3[i,j].T)\n",
    "        \n",
    "        \n",
    "        #Transformación de fuerzas segun referencia 3  a S4\n",
    "Forces_S4_TD = np.empty((len(elev_index),len(alpha_index),3))\n",
    "\n",
    "for i in range(len(elev_index)):\n",
    "    for j in range(len(alpha_index)):\n",
    "        Forces_S4_TD[i,j] = np.dot(R43,ff_forces[i,j].T)\n",
    "        \n",
    "\n",
    "        #Transformación de momentos de S3 a S4\n",
    "Moments_S4_TD = np.empty((len(elev_index),len(alpha_index),3))\n",
    "for i in range(len(elev_index)):\n",
    "    for j in range(len(alpha_index)):\n",
    "        Moments_S4_TD[i,j] = np.dot(R43,Mf_Moments[i,j].T)\n",
    "        "
   ]
  },
  {
   "cell_type": "code",
   "execution_count": 22,
   "id": "c09895e4",
   "metadata": {},
   "outputs": [],
   "source": [
    "        #Se crea un arreglo multidinemsional de dimensiones MxNx6 para los momentos\n",
    "Wrench = np.empty((len(beta),len(alpha),6))\n",
    "\n",
    "for i in range(len(beta)):\n",
    "            Wrench[i,:,0:3] = Moments_S4[i,:]\n",
    "            Wrench[i,:,3:6] = Forces_S4[i,:]"
   ]
  },
  {
   "cell_type": "code",
   "execution_count": 23,
   "id": "206ffc54",
   "metadata": {},
   "outputs": [],
   "source": [
    "#Creación de un arreglo de los Wrenches segun configuración\n",
    "New_Wremch = []\n",
    "for i in range(len(Wrench[0])):\n",
    "    Vector_Line = []\n",
    "    for j in range(len(Wrench)):\n",
    "        Vector_Line.append(Wrench[j][i])\n",
    "    New_Wremch.append(Vector_Line)\n",
    "New_Wrench = pd.DataFrame(New_Wremch)\n",
    "#Configuración de los index del data frame\n",
    "New_Wrench.columns = beta\n",
    "New_Wrench.index = alpha\n",
    "New_Wrench = New_Wrench.T"
   ]
  },
  {
   "cell_type": "code",
   "execution_count": 24,
   "id": "519b7553",
   "metadata": {},
   "outputs": [
    {
     "name": "stdout",
     "output_type": "stream",
     "text": [
      "------------------------------------------DATOS CARGADOS CORRECTAMENTE----------------------------------- \n",
      " Angulos de azimuth alpha:  5 - 180 ,y contiene:  11 \n",
      " Angulos de cenitales beta 5 - 90 , y contiene:  7 \n",
      " -----------------------------Las cargas en {C} se pueden obtener con las variables:--------------------- \n",
      " Forces_S4 \n",
      " Moments_S4 \n",
      " Wrench: Es el arreglo que contiene para cada configuración el vector Wrench [Momentos + Fuerzas] \n",
      " New_Wrench: Es un dataframe que contiene el vector Wrench para cada configuración \n",
      "             Se puede acceder mediante New_Wrench.loc[beta,alpha]\n"
     ]
    }
   ],
   "source": [
    "print(\n",
    "    \"------------------------------------------DATOS CARGADOS CORRECTAMENTE-----------------------------------\",\n",
    "    \"\\n\",\n",
    "    \"Angulos de azimuth alpha: \", search_alpha[0],\"-\",search_alpha[-1],\",y contiene: \", len(search_alpha),\n",
    "    \"\\n\",\n",
    "    \"Angulos de cenitales beta\", search_theta[0],\"-\",search_theta[-1],\", y contiene: \", len(search_theta),\n",
    "    \"\\n\",\n",
    "    \"-----------------------------Las cargas en {C} se pueden obtener con las variables:---------------------\",\n",
    "    \"\\n\",\n",
    "    \"Forces_S4\",\n",
    "    \"\\n\",\n",
    "    \"Moments_S4\",\n",
    "    \"\\n\",\n",
    "    \"Wrench: Es el arreglo que contiene para cada configuración el vector Wrench [Momentos + Fuerzas]\",\n",
    "    \"\\n\",\n",
    "    \"New_Wrench: Es un dataframe que contiene el vector Wrench para cada configuración\",\"\\n\",\n",
    "    \"            Se puede acceder mediante New_Wrench.loc[beta,alpha]\"\n",
    ")\n"
   ]
  }
 ],
 "metadata": {
  "celltoolbar": "Raw Cell Format",
  "kernelspec": {
   "display_name": "Python 3 (ipykernel)",
   "language": "python",
   "name": "python3"
  },
  "language_info": {
   "codemirror_mode": {
    "name": "ipython",
    "version": 3
   },
   "file_extension": ".py",
   "mimetype": "text/x-python",
   "name": "python",
   "nbconvert_exporter": "python",
   "pygments_lexer": "ipython3",
   "version": "3.9.7"
  }
 },
 "nbformat": 4,
 "nbformat_minor": 5
}
